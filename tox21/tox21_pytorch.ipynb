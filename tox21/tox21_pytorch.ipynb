{
  "nbformat": 4,
  "nbformat_minor": 0,
  "metadata": {
    "colab": {
      "provenance": [],
      "gpuType": "T4",
      "authorship_tag": "ABX9TyNNoIRJHHKztrMMYOVB11BP"
    },
    "kernelspec": {
      "name": "python3",
      "display_name": "Python 3"
    },
    "language_info": {
      "name": "python"
    },
    "accelerator": "GPU"
  },
  "cells": [
    {
      "cell_type": "code",
      "execution_count": null,
      "metadata": {
        "id": "KthzAy00H7wW"
      },
      "outputs": [],
      "source": [
        "!pip3 install --pre deepchem[torch]"
      ]
    },
    {
      "cell_type": "code",
      "source": [
        "!pip3 install torch_geometric"
      ],
      "metadata": {
        "id": "OvI2Wd0aJLFm"
      },
      "execution_count": null,
      "outputs": []
    },
    {
      "cell_type": "code",
      "source": [
        "import deepchem as dc\n",
        "import numpy as np\n",
        "from torchsummary import summary"
      ],
      "metadata": {
        "id": "TEqEJSUgIT1g"
      },
      "execution_count": 14,
      "outputs": []
    },
    {
      "cell_type": "code",
      "source": [
        "tox21_tasks, tox21_datasets, transformers = dc.molnet.load_tox21()"
      ],
      "metadata": {
        "colab": {
          "base_uri": "https://localhost:8080/"
        },
        "id": "yGJOcZt8IZgK",
        "outputId": "0cc463bc-2303-4309-d0a7-c167d122a6ab"
      },
      "execution_count": 5,
      "outputs": [
        {
          "output_type": "stream",
          "name": "stderr",
          "text": [
            "[21:20:18] WARNING: not removing hydrogen atom without neighbors\n",
            "[21:20:24] WARNING: not removing hydrogen atom without neighbors\n"
          ]
        }
      ]
    },
    {
      "cell_type": "code",
      "source": [
        "train_dataset, valid_dataset, test_dataset = tox21_datasets"
      ],
      "metadata": {
        "id": "Y6CO4qQWJoys"
      },
      "execution_count": 6,
      "outputs": []
    },
    {
      "cell_type": "code",
      "source": [
        "model = dc.models.MultitaskClassifier(n_tasks=12,\n",
        "    n_features=1024,\n",
        "    layer_sizes=[1000])"
      ],
      "metadata": {
        "id": "0T45XS1zJrh6"
      },
      "execution_count": 7,
      "outputs": []
    },
    {
      "cell_type": "code",
      "source": [
        "model.fit(train_dataset, nb_epoch=10)"
      ],
      "metadata": {
        "colab": {
          "base_uri": "https://localhost:8080/"
        },
        "id": "9IO-4SF3J0V3",
        "outputId": "5771d34b-6b94-4823-85fe-102c83fcf2b4"
      },
      "execution_count": 8,
      "outputs": [
        {
          "output_type": "execute_result",
          "data": {
            "text/plain": [
              "0.48879451751708985"
            ]
          },
          "metadata": {},
          "execution_count": 8
        }
      ]
    },
    {
      "cell_type": "code",
      "source": [
        "metric = dc.metrics.Metric(dc.metrics.roc_auc_score, np.mean)"
      ],
      "metadata": {
        "id": "qpyD4QGaJ4kd"
      },
      "execution_count": 11,
      "outputs": []
    },
    {
      "cell_type": "code",
      "source": [
        "train_scores = model.evaluate(train_dataset, [metric], transformers)\n",
        "test_scores = model.evaluate(test_dataset, [metric], transformers)"
      ],
      "metadata": {
        "id": "ldb8gwJdJ_ZH"
      },
      "execution_count": 12,
      "outputs": []
    },
    {
      "cell_type": "code",
      "source": [
        "print(train_scores)\n",
        "print(test_scores)"
      ],
      "metadata": {
        "colab": {
          "base_uri": "https://localhost:8080/"
        },
        "id": "Uegg9zl2KB-g",
        "outputId": "2c84ec25-7f18-4361-f2a3-367b5837356f"
      },
      "execution_count": 13,
      "outputs": [
        {
          "output_type": "stream",
          "name": "stdout",
          "text": [
            "{'mean-roc_auc_score': 0.9588038109367044}\n",
            "{'mean-roc_auc_score': 0.6820543626336021}\n"
          ]
        }
      ]
    },
    {
      "cell_type": "code",
      "source": [
        "summary(model.model, (1024,))"
      ],
      "metadata": {
        "colab": {
          "base_uri": "https://localhost:8080/"
        },
        "id": "1TZU7YhLKE-v",
        "outputId": "014e563c-fe61-44ac-c44a-4ca46bbd6c69"
      },
      "execution_count": 21,
      "outputs": [
        {
          "output_type": "stream",
          "name": "stdout",
          "text": [
            "----------------------------------------------------------------\n",
            "        Layer (type)               Output Shape         Param #\n",
            "================================================================\n",
            "            Linear-1                 [-1, 1000]       1,025,000\n",
            "            Linear-2                   [-1, 24]          24,024\n",
            "================================================================\n",
            "Total params: 1,049,024\n",
            "Trainable params: 1,049,024\n",
            "Non-trainable params: 0\n",
            "----------------------------------------------------------------\n",
            "Input size (MB): 0.00\n",
            "Forward/backward pass size (MB): 0.01\n",
            "Params size (MB): 4.00\n",
            "Estimated Total Size (MB): 4.01\n",
            "----------------------------------------------------------------\n"
          ]
        }
      ]
    },
    {
      "cell_type": "code",
      "source": [
        "print(model.model)"
      ],
      "metadata": {
        "colab": {
          "base_uri": "https://localhost:8080/"
        },
        "id": "LGsVOF_DKyWA",
        "outputId": "b37e9ca1-532f-4014-b29d-799943dcb937"
      },
      "execution_count": 23,
      "outputs": [
        {
          "output_type": "stream",
          "name": "stdout",
          "text": [
            "PytorchImpl(\n",
            "  (layers): ModuleList(\n",
            "    (0): Linear(in_features=1024, out_features=1000, bias=True)\n",
            "  )\n",
            "  (output_layer): Linear(in_features=1000, out_features=24, bias=True)\n",
            ")\n"
          ]
        }
      ]
    }
  ]
}